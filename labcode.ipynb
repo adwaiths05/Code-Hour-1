{
 "cells": [
  {
   "cell_type": "code",
   "execution_count": 2,
   "id": "4e887cc5",
   "metadata": {},
   "outputs": [
    {
     "name": "stdout",
     "output_type": "stream",
     "text": [
      "8.0\n"
     ]
    }
   ],
   "source": [
    "import math\n",
    "x=int(input(\"Enter a number:\"))\n",
    "print(math.pow(x,3))"
   ]
  },
  {
   "cell_type": "code",
   "execution_count": 3,
   "id": "76e4a597",
   "metadata": {},
   "outputs": [
    {
     "name": "stdout",
     "output_type": "stream",
     "text": [
      "3\n"
     ]
    }
   ],
   "source": [
    "x=int(input(\"Enter a number:\"))\n",
    "y=int(input(\"Enter a number:\"))\n",
    "z=int(input(\"Enter a number:\"))\n",
    "l=[]\n",
    "l.append(x)\n",
    "l.append(y)\n",
    "l.append(z)\n",
    "l.sort()\n",
    "print(l[-1])"
   ]
  },
  {
   "cell_type": "code",
   "execution_count": 4,
   "id": "533d7d74",
   "metadata": {},
   "outputs": [
    {
     "name": "stdout",
     "output_type": "stream",
     "text": [
      "You have entered a palindrome number\n"
     ]
    }
   ],
   "source": [
    "n=int(input(\"Enter the number:\"))\n",
    "s=str(n)\n",
    "if(s==s[::-1]):\n",
    "    print(\"You have entered a palindrome number\")\n",
    "else:\n",
    "    print(\"Its a non palindrome number\")"
   ]
  },
  {
   "cell_type": "code",
   "execution_count": 5,
   "id": "2777c94b",
   "metadata": {},
   "outputs": [
    {
     "name": "stdout",
     "output_type": "stream",
     "text": [
      "Its not a perfect number\n"
     ]
    }
   ],
   "source": [
    "n=int(input(\"Enter a number:\"))\n",
    "l=[]\n",
    "for i in range(1,n):\n",
    "    if(n%i==0):\n",
    "        l.append(i)\n",
    "count=0\n",
    "for j in l:\n",
    "    count+=j\n",
    "if count==n:\n",
    "    print(\"Its a perfect number\")\n",
    "else:\n",
    "    print(\"Its not a perfect number\")"
   ]
  },
  {
   "cell_type": "code",
   "execution_count": 6,
   "id": "2f15316d",
   "metadata": {},
   "outputs": [
    {
     "name": "stdout",
     "output_type": "stream",
     "text": [
      "Its not a valid triangle\n"
     ]
    }
   ],
   "source": [
    "a1=int(input(\"Enter a number:\"))\n",
    "a2=int(input(\"Enter a number:\"))\n",
    "a3=int(input(\"Enter a number:\"))\n",
    "if((a1+a2+a3)==180) and x > 0 and y > 0 and z > 0:\n",
    "    print(\"Its a valid triangle\")\n",
    "else:\n",
    "    print(\"Its not a valid triangle\")\n",
    "    "
   ]
  },
  {
   "cell_type": "code",
   "execution_count": 8,
   "id": "6e35d0ee",
   "metadata": {},
   "outputs": [
    {
     "name": "stdout",
     "output_type": "stream",
     "text": [
      "Roots are :\n",
      "-1.0357142857142858\n",
      "1.1071428571428572\n"
     ]
    }
   ],
   "source": [
    "a=int(input(\"Enter a number:\"))\n",
    "b=int(input(\"Enter a number:\"))\n",
    "c=int(input(\"Enter a number:\"))\n",
    "print(\"Roots are :\")\n",
    "s1=(-b+4*a*c)/(b**2-(4*a*c))\n",
    "s2=(-b-4*a*c)/(b**2-(4*a*c))\n",
    "print(s1)\n",
    "print(s2)"
   ]
  },
  {
   "cell_type": "code",
   "execution_count": null,
   "id": "44b37a04",
   "metadata": {},
   "outputs": [
    {
     "name": "stdout",
     "output_type": "stream",
     "text": [
      "Its a isoceles triangle\n"
     ]
    }
   ],
   "source": [
    "a1=int(input(\"Enter a number:\"))\n",
    "a2=int(input(\"Enter a number:\"))\n",
    "a3=int(input(\"Enter a number:\"))\n",
    "if a == b == c:\n",
    "    print(\"Equilateral Triangle\")\n",
    "elif a == b or b == c or a == c:\n",
    "    print(\"Isosceles Triangle\")\n",
    "else:\n",
    "    print(\"Scalene Triangle\")"
   ]
  },
  {
   "cell_type": "code",
   "execution_count": null,
   "id": "c9594f40",
   "metadata": {},
   "outputs": [
    {
     "name": "stdout",
     "output_type": "stream",
     "text": [
      "24\n"
     ]
    }
   ],
   "source": [
    "n=int(input(\"Enter a number:\"))\n",
    "p=1\n",
    "for i in range(1,n+1):\n",
    "    p*=i\n",
    "print(p)"
   ]
  },
  {
   "cell_type": "code",
   "execution_count": 9,
   "id": "2f968f0c",
   "metadata": {},
   "outputs": [
    {
     "name": "stdout",
     "output_type": "stream",
     "text": [
      "Prime: True\n"
     ]
    }
   ],
   "source": [
    "n = int(input(\"Enter a number to check prime: \"))\n",
    "prime = True\n",
    "if n < 2:\n",
    "    prime = False\n",
    "for i in range(2, int(math.sqrt(n)) + 1):\n",
    "    if n % i == 0:\n",
    "        prime = False\n",
    "        break\n",
    "print(\"Prime:\", prime)"
   ]
  },
  {
   "cell_type": "code",
   "execution_count": 10,
   "id": "d4187b03",
   "metadata": {},
   "outputs": [
    {
     "name": "stdout",
     "output_type": "stream",
     "text": [
      "Primes up to 9 :\n",
      "2 3 5 7 \n"
     ]
    }
   ],
   "source": [
    "n = int(input(\"\\nEnter limit to print primes: \"))\n",
    "print(\"Primes up to\", n, \":\")\n",
    "for i in range(2, n+1):\n",
    "    prime = True\n",
    "    for j in range(2, int(math.sqrt(i)) + 1):\n",
    "        if i % j == 0:\n",
    "            prime = False\n",
    "            break\n",
    "    if prime:\n",
    "        print(i, end=\" \")\n",
    "print()"
   ]
  },
  {
   "cell_type": "code",
   "execution_count": 11,
   "id": "4eb813e2",
   "metadata": {},
   "outputs": [
    {
     "name": "stdout",
     "output_type": "stream",
     "text": [
      "Fibonacci: [0, 1, 1, 2, 3, 5, 8, 13]\n"
     ]
    }
   ],
   "source": [
    "n = int(input(\"\\nEnter number of terms for Fibonacci: \"))\n",
    "fib = [0, 1]\n",
    "for i in range(2, n):\n",
    "    fib.append(fib[-1] + fib[-2])\n",
    "print(\"Fibonacci:\", fib[:n])"
   ]
  },
  {
   "cell_type": "code",
   "execution_count": 12,
   "id": "41dc55a0",
   "metadata": {},
   "outputs": [
    {
     "name": "stdout",
     "output_type": "stream",
     "text": [
      "Sum of digits: 24\n"
     ]
    }
   ],
   "source": [
    "n = int(input(\"\\nEnter a number for sum of digits: \"))\n",
    "print(\"Sum of digits:\", sum(int(d) for d in str(n)))"
   ]
  },
  {
   "cell_type": "code",
   "execution_count": 13,
   "id": "1d068a7b",
   "metadata": {},
   "outputs": [
    {
     "name": "stdout",
     "output_type": "stream",
     "text": [
      "Reverse: 221\n"
     ]
    }
   ],
   "source": [
    "n = int(input(\"\\nEnter a number to reverse: \"))\n",
    "print(\"Reverse:\", int(str(n)[::-1]))"
   ]
  },
  {
   "cell_type": "code",
   "execution_count": 14,
   "id": "979109e4",
   "metadata": {},
   "outputs": [
    {
     "name": "stdout",
     "output_type": "stream",
     "text": [
      "Armstrong Number\n"
     ]
    }
   ],
   "source": [
    "n = int(input(\"\\nEnter a number to check Armstrong: \"))\n",
    "digits = str(n)\n",
    "p = len(digits)\n",
    "total = sum(int(d)**p for d in digits)\n",
    "print(\"Armstrong Number\" if total == n else \"Not Armstrong\")"
   ]
  },
  {
   "cell_type": "code",
   "execution_count": 15,
   "id": "c39c7679",
   "metadata": {},
   "outputs": [
    {
     "name": "stdout",
     "output_type": "stream",
     "text": [
      "GCD: 1 LCM: 6\n"
     ]
    }
   ],
   "source": [
    "a = int(input(\"\\nEnter first number: \"))\n",
    "b = int(input(\"Enter second number: \"))\n",
    "x, y = a, b\n",
    "while y:\n",
    "    x, y = y, x % y\n",
    "gcd = x\n",
    "lcm = abs(a*b) // gcd\n",
    "print(\"GCD:\", gcd, \"LCM:\", lcm)"
   ]
  },
  {
   "cell_type": "code",
   "execution_count": 16,
   "id": "b2d5ee09",
   "metadata": {},
   "outputs": [
    {
     "name": "stdout",
     "output_type": "stream",
     "text": [
      "Character count: {'h': 1, 'e': 1, 'l': 2, 'o': 1}\n"
     ]
    }
   ],
   "source": [
    "s = input(\"\\nEnter a string: \")\n",
    "count = {}\n",
    "for ch in s:\n",
    "    count[ch] = count.get(ch, 0) + 1\n",
    "print(\"Character count:\", count)"
   ]
  }
 ],
 "metadata": {
  "kernelspec": {
   "display_name": "base",
   "language": "python",
   "name": "python3"
  },
  "language_info": {
   "codemirror_mode": {
    "name": "ipython",
    "version": 3
   },
   "file_extension": ".py",
   "mimetype": "text/x-python",
   "name": "python",
   "nbconvert_exporter": "python",
   "pygments_lexer": "ipython3",
   "version": "3.12.4"
  }
 },
 "nbformat": 4,
 "nbformat_minor": 5
}
